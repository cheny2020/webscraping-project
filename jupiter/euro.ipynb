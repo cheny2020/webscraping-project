{
 "cells": [
  {
   "cell_type": "code",
   "execution_count": 1,
   "id": "9c6bc4d2-63f1-426a-befb-2c169138b47e",
   "metadata": {},
   "outputs": [
    {
     "name": "stdout",
     "output_type": "stream",
     "text": [
      "200\n",
      "Match 1 was found at 133810-133823: ,\"nLbaXYaiH\",\n",
      "Group 1 found at 133812-133821: nLbaXYaiH\n",
      "nLbaXYaiH\n",
      "Match 2 was found at 133932-133945: ,\"RbWPAapQ6\",\n",
      "Group 1 found at 133934-133943: RbWPAapQ6\n",
      "RbWPAapQ6\n",
      "['nLbaXYaiH', 'RbWPAapQ6']\n"
     ]
    }
   ],
   "source": [
    "import re\n",
    "import requests\n",
    "\n",
    "regex = r\",\\\"([a-zA-Z0-9]{9})\\\",\"\n",
    "\n",
    "r = requests.get(\"https://www.europeana.eu/en\")\n",
    "print(r.status_code)\n",
    "#print(r.text)\n",
    "if r.status_code != 200:\n",
    "    exit(1)\n",
    "\n",
    "matches = re.finditer(regex, r.text, re.MULTILINE)\n",
    "potential_token = []\n",
    "for matchNum, match in enumerate(matches, start=1):\n",
    "    print (\"Match {matchNum} was found at {start}-{end}: {match}\".format(matchNum = matchNum, start = match.start(), end = match.end(), match = match.group()))\n",
    "    for groupNum in range(0, len(match.groups())):\n",
    "        groupNum = groupNum + 1\n",
    "        print (\"Group {groupNum} found at {start}-{end}: {group}\".format(groupNum = groupNum, start = match.start(groupNum), end = match.end(groupNum), group = match.group(groupNum)))\n",
    "        print(match.group(groupNum))\n",
    "        potential_token.append(match.group(groupNum))\n",
    "print(potential_token)\n",
    "\n",
    "# find potential token from html"
   ]
  },
  {
   "cell_type": "code",
   "execution_count": 6,
   "id": "85713168-edf0-4887-ab33-4128ff89f02f",
   "metadata": {},
   "outputs": [
    {
     "name": "stdout",
     "output_type": "stream",
     "text": [
      "nLbaXYaiH 200\n"
     ]
    }
   ],
   "source": [
    "token = None\n",
    "\n",
    "for tok in potential_token:\n",
    "    url = f'https://api.europeana.eu/record/search.json?wskey={tok}&page=1&view=grid&query=test&profile=minimal&rows=1&start=1'\n",
    "    r = requests.get(url)\n",
    "    print(tok, r.status_code)\n",
    "    if r.status_code == 200:\n",
    "        token = tok\n",
    "        break"
   ]
  },
  {
   "cell_type": "code",
   "execution_count": 37,
   "id": "18dbd4a3-ab85-4cc4-9491-ad9e6521c2cd",
   "metadata": {},
   "outputs": [],
   "source": [
    "keyword = \"forêt de rambouillet\""
   ]
  },
  {
   "cell_type": "code",
   "execution_count": 38,
   "id": "8ff6989f-5733-4e5e-bd1a-605abe59c3fc",
   "metadata": {},
   "outputs": [],
   "source": [
    "initurl = f\"https://api.europeana.eu/record/search.json?wskey={token}&page=1&view=grid&query={keyword}&qf=contentTier%3A%281%20OR%202%20OR%203%20OR%204%29&profile=minimal&rows=1&start=1\""
   ]
  },
  {
   "cell_type": "code",
   "execution_count": 39,
   "id": "a8bbc42b-c1b8-4873-8fb4-c3fe3fc9a0e4",
   "metadata": {},
   "outputs": [],
   "source": [
    "r = requests.get(initurl)\n",
    "if r.status_code != 200:\n",
    "    exit(1)"
   ]
  },
  {
   "cell_type": "code",
   "execution_count": 40,
   "id": "c7ffc4b6-fc8f-4112-bcbe-7362e9bda9da",
   "metadata": {},
   "outputs": [
    {
     "name": "stdout",
     "output_type": "stream",
     "text": [
      "total result is 158\n"
     ]
    }
   ],
   "source": [
    "datainit = r.json()\n",
    "if datainit[\"success\"] == \"False\":\n",
    "    print(\"no result\")\n",
    "    exit(1)\n",
    "totalc = datainit[\"totalResults\"]\n",
    "print(f\"total result is {totalc}\")"
   ]
  },
  {
   "cell_type": "code",
   "execution_count": 41,
   "id": "6e0f43d2-d287-4c0f-846a-2d7ce3dd10b6",
   "metadata": {},
   "outputs": [
    {
     "name": "stdout",
     "output_type": "stream",
     "text": [
      "retrive 100 items\n",
      "retrive 58 items\n",
      "158\n"
     ]
    }
   ],
   "source": [
    "import time\n",
    "result = []\n",
    "index = 1\n",
    "\n",
    "MAX_SEARCH = 100\n",
    "while len(result) < totalc:\n",
    "    searchurl = f\"https://api.europeana.eu/record/search.json?wskey={token}&page=1&view=grid&query={keyword}&qf=contentTier%3A%281%20OR%202%20OR%203%20OR%204%29&profile=minimal&rows={MAX_SEARCH}&start={index}\"\n",
    "\n",
    "    r = requests.get(searchurl)\n",
    "    if r.status_code != 200:\n",
    "        print(r.status_code)\n",
    "        print(r.text)\n",
    "        exit(2)\n",
    "    data = r.json()\n",
    "    print(f\"retrive {data['itemsCount']} items\")\n",
    "    index += data[\"itemsCount\"]\n",
    "    result += data[\"items\"]\n",
    "\n",
    "    time.sleep(0.1)\n",
    "\n",
    "print(len(result))"
   ]
  },
  {
   "cell_type": "code",
   "execution_count": 42,
   "id": "d27d71f8-d0a7-4911-978c-7e1dbaf87e8c",
   "metadata": {},
   "outputs": [],
   "source": [
    "import json\n",
    "with open(\"europea.json\", \"w\") as f:\n",
    "    json.dump(result, f, indent=4)"
   ]
  }
 ],
 "metadata": {
  "kernelspec": {
   "display_name": "Python 3 (ipykernel)",
   "language": "python",
   "name": "python3"
  },
  "language_info": {
   "codemirror_mode": {
    "name": "ipython",
    "version": 3
   },
   "file_extension": ".py",
   "mimetype": "text/x-python",
   "name": "python",
   "nbconvert_exporter": "python",
   "pygments_lexer": "ipython3",
   "version": "3.8.0"
  }
 },
 "nbformat": 4,
 "nbformat_minor": 5
}
